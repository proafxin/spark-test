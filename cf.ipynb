{
 "cells": [
  {
   "cell_type": "code",
   "execution_count": 1,
   "id": "da80bf19",
   "metadata": {},
   "outputs": [],
   "source": [
    "from pyspark.sql import SparkSession\n",
    "from pyspark.sql.functions import explode\n",
    "from pyspark.sql.types import FloatType, IntegerType\n",
    "from pyspark.ml.recommendation import ALS\n",
    "from pyspark.ml.evaluation import RegressionEvaluator\n",
    "from pyspark.ml.tuning import ParamGridBuilder, CrossValidator"
   ]
  },
  {
   "cell_type": "code",
   "execution_count": 2,
   "id": "be089b0e",
   "metadata": {},
   "outputs": [],
   "source": [
    "spark = SparkSession.builder.appName('Collaborative Filtering').getOrCreate()"
   ]
  },
  {
   "cell_type": "code",
   "execution_count": 3,
   "id": "76276b32",
   "metadata": {},
   "outputs": [],
   "source": [
    "sc = spark.sparkContext"
   ]
  },
  {
   "cell_type": "code",
   "execution_count": 4,
   "id": "87810a1b",
   "metadata": {},
   "outputs": [
    {
     "name": "stdout",
     "output_type": "stream",
     "text": [
      "+------+-------+------+---------+\n",
      "|userId|movieId|rating|timestamp|\n",
      "+------+-------+------+---------+\n",
      "|     1|      1|   4.0|964982703|\n",
      "|     1|      3|   4.0|964981247|\n",
      "|     1|      6|   4.0|964982224|\n",
      "|     1|     47|   5.0|964983815|\n",
      "|     1|     50|   5.0|964982931|\n",
      "|     1|     70|   3.0|964982400|\n",
      "|     1|    101|   5.0|964980868|\n",
      "|     1|    110|   4.0|964982176|\n",
      "|     1|    151|   5.0|964984041|\n",
      "|     1|    157|   5.0|964984100|\n",
      "|     1|    163|   5.0|964983650|\n",
      "|     1|    216|   5.0|964981208|\n",
      "|     1|    223|   3.0|964980985|\n",
      "|     1|    231|   5.0|964981179|\n",
      "|     1|    235|   4.0|964980908|\n",
      "|     1|    260|   5.0|964981680|\n",
      "|     1|    296|   3.0|964982967|\n",
      "|     1|    316|   3.0|964982310|\n",
      "|     1|    333|   5.0|964981179|\n",
      "|     1|    349|   4.0|964982563|\n",
      "+------+-------+------+---------+\n",
      "only showing top 20 rows\n",
      "\n"
     ]
    }
   ],
   "source": [
    "rating_rdf = spark.read.options(inferScehma=True, header=True).csv('ratings.csv')\n",
    "rating_rdf.show()"
   ]
  },
  {
   "cell_type": "code",
   "execution_count": 5,
   "id": "794b3aa7",
   "metadata": {},
   "outputs": [
    {
     "name": "stdout",
     "output_type": "stream",
     "text": [
      "root\n",
      " |-- userId: string (nullable = true)\n",
      " |-- movieId: string (nullable = true)\n",
      " |-- rating: string (nullable = true)\n",
      " |-- timestamp: string (nullable = true)\n",
      "\n"
     ]
    }
   ],
   "source": [
    "rating_rdf.printSchema()"
   ]
  },
  {
   "cell_type": "code",
   "execution_count": 6,
   "id": "17719096",
   "metadata": {},
   "outputs": [
    {
     "name": "stdout",
     "output_type": "stream",
     "text": [
      "+-------+--------------------+--------------------+\n",
      "|movieId|               title|              genres|\n",
      "+-------+--------------------+--------------------+\n",
      "|      1|    Toy Story (1995)|Adventure|Animati...|\n",
      "|      2|      Jumanji (1995)|Adventure|Childre...|\n",
      "|      3|Grumpier Old Men ...|      Comedy|Romance|\n",
      "|      4|Waiting to Exhale...|Comedy|Drama|Romance|\n",
      "|      5|Father of the Bri...|              Comedy|\n",
      "|      6|         Heat (1995)|Action|Crime|Thri...|\n",
      "|      7|      Sabrina (1995)|      Comedy|Romance|\n",
      "|      8| Tom and Huck (1995)|  Adventure|Children|\n",
      "|      9| Sudden Death (1995)|              Action|\n",
      "|     10|    GoldenEye (1995)|Action|Adventure|...|\n",
      "|     11|American Presiden...|Comedy|Drama|Romance|\n",
      "|     12|Dracula: Dead and...|       Comedy|Horror|\n",
      "|     13|        Balto (1995)|Adventure|Animati...|\n",
      "|     14|        Nixon (1995)|               Drama|\n",
      "|     15|Cutthroat Island ...|Action|Adventure|...|\n",
      "|     16|       Casino (1995)|         Crime|Drama|\n",
      "|     17|Sense and Sensibi...|       Drama|Romance|\n",
      "|     18|   Four Rooms (1995)|              Comedy|\n",
      "|     19|Ace Ventura: When...|              Comedy|\n",
      "|     20|  Money Train (1995)|Action|Comedy|Cri...|\n",
      "+-------+--------------------+--------------------+\n",
      "only showing top 20 rows\n",
      "\n"
     ]
    }
   ],
   "source": [
    "movie_rdf = spark.read.options(inferSchema=True, header=True).csv('movies.csv')\n",
    "movie_rdf.show()"
   ]
  },
  {
   "cell_type": "code",
   "execution_count": 7,
   "id": "3ad29cae",
   "metadata": {},
   "outputs": [
    {
     "name": "stdout",
     "output_type": "stream",
     "text": [
      "+-------+------+------+\n",
      "|movieId|userId|rating|\n",
      "+-------+------+------+\n",
      "|      1|     1|   4.0|\n",
      "|      3|     1|   4.0|\n",
      "|      6|     1|   4.0|\n",
      "|     47|     1|   5.0|\n",
      "|     50|     1|   5.0|\n",
      "|     70|     1|   3.0|\n",
      "|    101|     1|   5.0|\n",
      "|    110|     1|   4.0|\n",
      "|    151|     1|   5.0|\n",
      "|    157|     1|   5.0|\n",
      "|    163|     1|   5.0|\n",
      "|    216|     1|   5.0|\n",
      "|    223|     1|   3.0|\n",
      "|    231|     1|   5.0|\n",
      "|    235|     1|   4.0|\n",
      "|    260|     1|   5.0|\n",
      "|    296|     1|   3.0|\n",
      "|    316|     1|   3.0|\n",
      "|    333|     1|   5.0|\n",
      "|    349|     1|   4.0|\n",
      "+-------+------+------+\n",
      "only showing top 20 rows\n",
      "\n"
     ]
    }
   ],
   "source": [
    "rdf = rating_rdf.join(movie_rdf, 'movieId', 'left')\n",
    "rdf = rdf.withColumn('userId', rdf['userId'].cast(IntegerType()))\n",
    "rdf = rdf.withColumn('movieId', rdf['movieId'].cast(IntegerType()))\n",
    "rdf = rdf.withColumn('rating', rdf['rating'].cast(FloatType()))\n",
    "rdf = rdf.drop('timestamp', 'title', 'genres')\n",
    "rdf.show()"
   ]
  },
  {
   "cell_type": "code",
   "execution_count": 8,
   "id": "7fcb5b4c",
   "metadata": {
    "scrolled": true
   },
   "outputs": [
    {
     "name": "stdout",
     "output_type": "stream",
     "text": [
      "root\n",
      " |-- movieId: integer (nullable = true)\n",
      " |-- userId: integer (nullable = true)\n",
      " |-- rating: float (nullable = true)\n",
      "\n"
     ]
    }
   ],
   "source": [
    "rdf.printSchema()"
   ]
  },
  {
   "cell_type": "code",
   "execution_count": 9,
   "id": "e206e0fb",
   "metadata": {},
   "outputs": [
    {
     "data": {
      "text/plain": [
       "5.0"
      ]
     },
     "execution_count": 9,
     "metadata": {},
     "output_type": "execute_result"
    }
   ],
   "source": [
    "rdf.agg({'rating': 'max'}).collect()[0][0]"
   ]
  },
  {
   "cell_type": "code",
   "execution_count": 10,
   "id": "dec029e2",
   "metadata": {},
   "outputs": [
    {
     "name": "stdout",
     "output_type": "stream",
     "text": [
      "+------+-----+\n",
      "|userId|count|\n",
      "+------+-----+\n",
      "|   414| 2698|\n",
      "|   599| 2478|\n",
      "|   474| 2108|\n",
      "|   448| 1864|\n",
      "|   274| 1346|\n",
      "|   610| 1302|\n",
      "|    68| 1260|\n",
      "|   380| 1218|\n",
      "|   606| 1115|\n",
      "|   288| 1055|\n",
      "|   249| 1046|\n",
      "|   387| 1027|\n",
      "|   182|  977|\n",
      "|   307|  975|\n",
      "|   603|  943|\n",
      "|   298|  939|\n",
      "|   177|  904|\n",
      "|   318|  879|\n",
      "|   232|  862|\n",
      "|   480|  836|\n",
      "+------+-----+\n",
      "only showing top 20 rows\n",
      "\n"
     ]
    }
   ],
   "source": [
    "counts = rdf.groupBy('userId').count().orderBy('count', ascending=False)\n",
    "counts.show()"
   ]
  },
  {
   "cell_type": "code",
   "execution_count": 11,
   "id": "f526f88c",
   "metadata": {},
   "outputs": [
    {
     "name": "stderr",
     "output_type": "stream",
     "text": [
      "WARNING:root:'PYARROW_IGNORE_TIMEZONE' environment variable was not set. It is required to set this environment variable to '1' in both driver and executor sides if you use pyarrow>=2.0.0. pandas-on-Spark will set it for you but it does not work if there is a Spark context already launched.\n",
      "C:\\spark-3.3.0-bin-hadoop3\\python\\pyspark\\pandas\\utils.py:975: PandasAPIOnSparkAdviceWarning: If `index_col` is not specified for `to_spark`, the existing index is lost when converting to Spark DataFrame.\n",
      "  warnings.warn(message, PandasAPIOnSparkAdviceWarning)\n"
     ]
    },
    {
     "name": "stdout",
     "output_type": "stream",
     "text": [
      "+------+-----+\n",
      "|userId|count|\n",
      "+------+-----+\n",
      "|   414| 2698|\n",
      "|   599| 2478|\n",
      "|   474| 2108|\n",
      "|   448| 1864|\n",
      "|   274| 1346|\n",
      "|   610| 1302|\n",
      "|    68| 1260|\n",
      "|   380| 1218|\n",
      "|   606| 1115|\n",
      "|   288| 1055|\n",
      "|   249| 1046|\n",
      "|   387| 1027|\n",
      "|   182|  977|\n",
      "|   307|  975|\n",
      "|   603|  943|\n",
      "|   298|  939|\n",
      "|   177|  904|\n",
      "|   318|  879|\n",
      "|   232|  862|\n",
      "|   480|  836|\n",
      "+------+-----+\n",
      "only showing top 20 rows\n",
      "\n"
     ]
    }
   ],
   "source": [
    "pdf = counts.pandas_api()\n",
    "pdf = pdf[pdf['count'] >= 50].copy()\n",
    "counts = pdf.to_spark()\n",
    "counts.show()"
   ]
  },
  {
   "cell_type": "code",
   "execution_count": 12,
   "id": "94d944f8",
   "metadata": {},
   "outputs": [
    {
     "data": {
      "text/plain": [
       "385"
      ]
     },
     "execution_count": 12,
     "metadata": {},
     "output_type": "execute_result"
    }
   ],
   "source": [
    "counts.count()"
   ]
  },
  {
   "cell_type": "code",
   "execution_count": 13,
   "id": "5710c2d8",
   "metadata": {},
   "outputs": [
    {
     "name": "stdout",
     "output_type": "stream",
     "text": [
      "+-------+------+------+\n",
      "|movieId|userId|rating|\n",
      "+-------+------+------+\n",
      "|      1|     5|   4.0|\n",
      "|      1|     7|   4.5|\n",
      "|      1|    15|   2.5|\n",
      "|      1|    17|   4.5|\n",
      "|      1|    18|   3.5|\n",
      "|      1|    19|   4.0|\n",
      "|      1|    21|   3.5|\n",
      "|      1|    27|   3.0|\n",
      "|      1|    31|   5.0|\n",
      "|      1|    32|   3.0|\n",
      "|      1|    40|   5.0|\n",
      "|      1|    43|   5.0|\n",
      "|      1|    44|   3.0|\n",
      "|      1|    45|   4.0|\n",
      "|      1|    46|   5.0|\n",
      "|      1|    50|   3.0|\n",
      "|      1|    63|   5.0|\n",
      "|      1|    68|   2.5|\n",
      "|      1|    71|   5.0|\n",
      "|      1|    73|   4.5|\n",
      "+-------+------+------+\n",
      "only showing top 20 rows\n",
      "\n"
     ]
    }
   ],
   "source": [
    "train, test = rdf.randomSplit([.8, .2], seed=4563)\n",
    "train.show()"
   ]
  },
  {
   "cell_type": "code",
   "execution_count": 14,
   "id": "9a2d4307",
   "metadata": {},
   "outputs": [
    {
     "name": "stdout",
     "output_type": "stream",
     "text": [
      "+-------+------+------+\n",
      "|movieId|userId|rating|\n",
      "+-------+------+------+\n",
      "|      1|     1|   4.0|\n",
      "|      1|    33|   3.0|\n",
      "|      1|    54|   3.0|\n",
      "|      1|    57|   5.0|\n",
      "|      1|    64|   4.0|\n",
      "|      1|    66|   4.0|\n",
      "|      1|    98|   4.5|\n",
      "|      1|   155|   3.0|\n",
      "|      1|   161|   4.0|\n",
      "|      1|   200|   3.5|\n",
      "|      1|   213|   3.5|\n",
      "|      1|   226|   3.5|\n",
      "|      1|   232|   3.5|\n",
      "|      1|   263|   4.0|\n",
      "|      1|   270|   5.0|\n",
      "|      1|   273|   5.0|\n",
      "|      1|   276|   4.0|\n",
      "|      1|   322|   3.5|\n",
      "|      1|   323|   3.5|\n",
      "|      1|   332|   4.0|\n",
      "+-------+------+------+\n",
      "only showing top 20 rows\n",
      "\n"
     ]
    }
   ],
   "source": [
    "test.show()"
   ]
  },
  {
   "cell_type": "code",
   "execution_count": 15,
   "id": "7f49c30b",
   "metadata": {},
   "outputs": [
    {
     "data": {
      "text/plain": [
       "80658"
      ]
     },
     "execution_count": 15,
     "metadata": {},
     "output_type": "execute_result"
    }
   ],
   "source": [
    "train.count()"
   ]
  },
  {
   "cell_type": "code",
   "execution_count": 16,
   "id": "8cd56c42",
   "metadata": {},
   "outputs": [
    {
     "data": {
      "text/plain": [
       "20178"
      ]
     },
     "execution_count": 16,
     "metadata": {},
     "output_type": "execute_result"
    }
   ],
   "source": [
    "test.count()"
   ]
  },
  {
   "cell_type": "code",
   "execution_count": 17,
   "id": "30f87fce",
   "metadata": {},
   "outputs": [
    {
     "data": {
      "text/plain": [
       "ALS_fcf0a9f38c9c"
      ]
     },
     "execution_count": 17,
     "metadata": {},
     "output_type": "execute_result"
    }
   ],
   "source": [
    "als = ALS(\n",
    "    userCol='userId', \n",
    "    itemCol='movieId',\n",
    "    ratingCol='rating',\n",
    "    nonnegative=True,\n",
    "    implicitPrefs=False,\n",
    "    coldStartStrategy='drop',\n",
    ")\n",
    "als"
   ]
  },
  {
   "cell_type": "code",
   "execution_count": 18,
   "id": "a6733849",
   "metadata": {},
   "outputs": [
    {
     "data": {
      "text/plain": [
       "[{Param(parent='ALS_fcf0a9f38c9c', name='rank', doc='rank of the factorization'): 10,\n",
       "  Param(parent='ALS_fcf0a9f38c9c', name='regParam', doc='regularization parameter (>= 0).'): 0.01},\n",
       " {Param(parent='ALS_fcf0a9f38c9c', name='rank', doc='rank of the factorization'): 10,\n",
       "  Param(parent='ALS_fcf0a9f38c9c', name='regParam', doc='regularization parameter (>= 0).'): 0.05},\n",
       " {Param(parent='ALS_fcf0a9f38c9c', name='rank', doc='rank of the factorization'): 10,\n",
       "  Param(parent='ALS_fcf0a9f38c9c', name='regParam', doc='regularization parameter (>= 0).'): 0.1},\n",
       " {Param(parent='ALS_fcf0a9f38c9c', name='rank', doc='rank of the factorization'): 50,\n",
       "  Param(parent='ALS_fcf0a9f38c9c', name='regParam', doc='regularization parameter (>= 0).'): 0.01},\n",
       " {Param(parent='ALS_fcf0a9f38c9c', name='rank', doc='rank of the factorization'): 50,\n",
       "  Param(parent='ALS_fcf0a9f38c9c', name='regParam', doc='regularization parameter (>= 0).'): 0.05},\n",
       " {Param(parent='ALS_fcf0a9f38c9c', name='rank', doc='rank of the factorization'): 50,\n",
       "  Param(parent='ALS_fcf0a9f38c9c', name='regParam', doc='regularization parameter (>= 0).'): 0.1},\n",
       " {Param(parent='ALS_fcf0a9f38c9c', name='rank', doc='rank of the factorization'): 100,\n",
       "  Param(parent='ALS_fcf0a9f38c9c', name='regParam', doc='regularization parameter (>= 0).'): 0.01},\n",
       " {Param(parent='ALS_fcf0a9f38c9c', name='rank', doc='rank of the factorization'): 100,\n",
       "  Param(parent='ALS_fcf0a9f38c9c', name='regParam', doc='regularization parameter (>= 0).'): 0.05},\n",
       " {Param(parent='ALS_fcf0a9f38c9c', name='rank', doc='rank of the factorization'): 100,\n",
       "  Param(parent='ALS_fcf0a9f38c9c', name='regParam', doc='regularization parameter (>= 0).'): 0.1}]"
      ]
     },
     "execution_count": 18,
     "metadata": {},
     "output_type": "execute_result"
    }
   ],
   "source": [
    "pg = ParamGridBuilder().addGrid(als.rank, [10, 50, 100])\n",
    "pg = pg.addGrid(als.regParam, [.01,.05, .1,])\n",
    "pg = pg.build()\n",
    "pg"
   ]
  },
  {
   "cell_type": "code",
   "execution_count": 19,
   "id": "b0d66246",
   "metadata": {},
   "outputs": [
    {
     "data": {
      "text/plain": [
       "RegressionEvaluator_7014405944dc"
      ]
     },
     "execution_count": 19,
     "metadata": {},
     "output_type": "execute_result"
    }
   ],
   "source": [
    "evaluator = RegressionEvaluator(\n",
    "    metricName='rmse',\n",
    "    labelCol='rating',\n",
    "    predictionCol='prediction',\n",
    ")\n",
    "evaluator"
   ]
  },
  {
   "cell_type": "code",
   "execution_count": 20,
   "id": "8816b0cf",
   "metadata": {},
   "outputs": [
    {
     "data": {
      "text/plain": [
       "CrossValidator_9f13d3bdddb7"
      ]
     },
     "execution_count": 20,
     "metadata": {},
     "output_type": "execute_result"
    }
   ],
   "source": [
    "cv = CrossValidator(evaluator=evaluator,estimator=als,estimatorParamMaps=pg,numFolds=3)\n",
    "cv"
   ]
  },
  {
   "cell_type": "code",
   "execution_count": 21,
   "id": "c95faf8d",
   "metadata": {},
   "outputs": [
    {
     "name": "stdout",
     "output_type": "stream",
     "text": [
      "CPU times: total: 93.8 ms\n",
      "Wall time: 1min 28s\n"
     ]
    }
   ],
   "source": [
    "%%time\n",
    "model = cv.fit(train)"
   ]
  },
  {
   "cell_type": "code",
   "execution_count": 22,
   "id": "c3a25032",
   "metadata": {},
   "outputs": [
    {
     "data": {
      "text/plain": [
       "0.86985274417317"
      ]
     },
     "execution_count": 22,
     "metadata": {},
     "output_type": "execute_result"
    }
   ],
   "source": [
    "best_model = model.bestModel\n",
    "predictions = best_model.transform(test)\n",
    "error = evaluator.evaluate(predictions)\n",
    "error"
   ]
  },
  {
   "cell_type": "code",
   "execution_count": 44,
   "id": "a8b0488e",
   "metadata": {},
   "outputs": [
    {
     "name": "stdout",
     "output_type": "stream",
     "text": [
      "+------+--------------------+\n",
      "|userId|     recommendations|\n",
      "+------+--------------------+\n",
      "|     1|[{51931, 5.453394...|\n",
      "|     2|[{89774, 4.599317...|\n",
      "|     3|[{6835, 4.9213486...|\n",
      "|     4|[{3851, 4.924227}...|\n",
      "|     5|[{290, 4.5228376}...|\n",
      "|     6|[{2137, 4.6220713...|\n",
      "|     7|[{260, 4.6101904}...|\n",
      "|     8|[{7767, 4.7049017...|\n",
      "|     9|[{720, 4.813535},...|\n",
      "|    10|[{71579, 4.717427...|\n",
      "|    11|[{27611, 4.969722...|\n",
      "|    12|[{142488, 5.43573...|\n",
      "|    13|[{3022, 4.8604355...|\n",
      "|    14|[{945, 4.367099},...|\n",
      "|    15|[{166534, 4.74139...|\n",
      "|    16|[{171495, 4.27658...|\n",
      "|    17|[{260, 4.7072096}...|\n",
      "|    18|[{171495, 4.63090...|\n",
      "|    19|[{1658, 4.292015}...|\n",
      "|    20|[{527, 4.8311124}...|\n",
      "+------+--------------------+\n",
      "only showing top 20 rows\n",
      "\n"
     ]
    }
   ],
   "source": [
    "recommendations = best_model.recommendForAllUsers(numItems=5)\n",
    "recommendations.show()"
   ]
  },
  {
   "cell_type": "code",
   "execution_count": 50,
   "id": "c573f2fb",
   "metadata": {},
   "outputs": [
    {
     "name": "stdout",
     "output_type": "stream",
     "text": [
      "+------+-------------------+\n",
      "|userId|    recommendations|\n",
      "+------+-------------------+\n",
      "|     1| {51931, 5.4533944}|\n",
      "|     1|    {7842, 5.39222}|\n",
      "|     1|   {3494, 5.338763}|\n",
      "|     1| {142488, 5.335615}|\n",
      "|     1|   {720, 5.3224373}|\n",
      "|     2| {89774, 4.5993176}|\n",
      "|     2|  {80906, 4.566479}|\n",
      "|     2|{106782, 4.5290713}|\n",
      "|     2| {60756, 4.3998523}|\n",
      "|     2| {58301, 4.3885355}|\n",
      "|     3|  {6835, 4.9213486}|\n",
      "|     3|  {5746, 4.9213486}|\n",
      "|     3|   {5919, 4.863526}|\n",
      "|     3|  {5181, 4.8586764}|\n",
      "|     3|  {7991, 4.7858067}|\n",
      "|     4|   {3851, 4.924227}|\n",
      "|     4|   {3365, 4.771686}|\n",
      "|     4|  {1283, 4.7604494}|\n",
      "|     4|   {2390, 4.715044}|\n",
      "|     4|  {2186, 4.6737022}|\n",
      "+------+-------------------+\n",
      "only showing top 20 rows\n",
      "\n"
     ]
    }
   ],
   "source": [
    "recommendations = recommendations.withColumn('recommendations', explode(recommendations.recommendations))\n",
    "recommendations.show()"
   ]
  },
  {
   "cell_type": "code",
   "execution_count": 51,
   "id": "beee48a9",
   "metadata": {},
   "outputs": [
    {
     "name": "stdout",
     "output_type": "stream",
     "text": [
      "root\n",
      " |-- userId: integer (nullable = false)\n",
      " |-- recommendations: struct (nullable = true)\n",
      " |    |-- movieId: integer (nullable = true)\n",
      " |    |-- rating: float (nullable = true)\n",
      "\n"
     ]
    }
   ],
   "source": [
    "recommendations.printSchema()"
   ]
  },
  {
   "cell_type": "code",
   "execution_count": 52,
   "id": "189a1876",
   "metadata": {},
   "outputs": [
    {
     "name": "stdout",
     "output_type": "stream",
     "text": [
      "+------+-------+---------+\n",
      "|userId|movieId|   rating|\n",
      "+------+-------+---------+\n",
      "|     1|  51931|5.4533944|\n",
      "|     1|   7842|  5.39222|\n",
      "|     1|   3494| 5.338763|\n",
      "|     1| 142488| 5.335615|\n",
      "|     1|    720|5.3224373|\n",
      "|     2|  89774|4.5993176|\n",
      "|     2|  80906| 4.566479|\n",
      "|     2| 106782|4.5290713|\n",
      "|     2|  60756|4.3998523|\n",
      "|     2|  58301|4.3885355|\n",
      "|     3|   6835|4.9213486|\n",
      "|     3|   5746|4.9213486|\n",
      "|     3|   5919| 4.863526|\n",
      "|     3|   5181|4.8586764|\n",
      "|     3|   7991|4.7858067|\n",
      "|     4|   3851| 4.924227|\n",
      "|     4|   3365| 4.771686|\n",
      "|     4|   1283|4.7604494|\n",
      "|     4|   2390| 4.715044|\n",
      "|     4|   2186|4.6737022|\n",
      "+------+-------+---------+\n",
      "only showing top 20 rows\n",
      "\n"
     ]
    }
   ],
   "source": [
    "recommendations = recommendations.select('userId', 'recommendations.movieId', 'recommendations.rating')\n",
    "recommendations.show()"
   ]
  },
  {
   "cell_type": "code",
   "execution_count": 53,
   "id": "549d9112",
   "metadata": {},
   "outputs": [
    {
     "name": "stdout",
     "output_type": "stream",
     "text": [
      "+-------+------+---------+--------------------+--------------------+\n",
      "|movieId|userId|   rating|               title|              genres|\n",
      "+-------+------+---------+--------------------+--------------------+\n",
      "|  51931|     1|5.4533944|Reign Over Me (2007)|               Drama|\n",
      "|   7842|     1|  5.39222|         Dune (2000)|Drama|Fantasy|Sci-Fi|\n",
      "|   3494|     1| 5.338763|    True Grit (1969)|Adventure|Drama|W...|\n",
      "| 142488|     1| 5.335615|    Spotlight (2015)|            Thriller|\n",
      "|    720|     1|5.3224373|Wallace & Gromit:...|Adventure|Animati...|\n",
      "|  89774|     2|4.5993176|      Warrior (2011)|               Drama|\n",
      "|  80906|     2| 4.566479|   Inside Job (2010)|         Documentary|\n",
      "| 106782|     2|4.5290713|Wolf of Wall Stre...|  Comedy|Crime|Drama|\n",
      "|  60756|     2|4.3998523|Step Brothers (2008)|              Comedy|\n",
      "|  58301|     2|4.3885355|Funny Games U.S. ...|      Drama|Thriller|\n",
      "|   6835|     3|4.9213486|Alien Contaminati...|Action|Horror|Sci-Fi|\n",
      "|   5746|     3|4.9213486|Galaxy of Terror ...|Action|Horror|Mys...|\n",
      "|   5919|     3| 4.863526|      Android (1982)|              Sci-Fi|\n",
      "|   5181|     3|4.8586764|    Hangar 18 (1980)|Action|Sci-Fi|Thr...|\n",
      "|   7991|     3|4.7858067|Death Race 2000 (...|       Action|Sci-Fi|\n",
      "|   3851|     4| 4.924227|I'm the One That ...|              Comedy|\n",
      "|   3365|     4| 4.771686|Searchers, The (1...|       Drama|Western|\n",
      "|   1283|     4|4.7604494|    High Noon (1952)|       Drama|Western|\n",
      "|   2390|     4| 4.715044| Little Voice (1998)|              Comedy|\n",
      "|   2186|     4|4.6737022|Strangers on a Tr...|Crime|Drama|Film-...|\n",
      "+-------+------+---------+--------------------+--------------------+\n",
      "only showing top 20 rows\n",
      "\n"
     ]
    }
   ],
   "source": [
    "recommendations = recommendations.join(movie_rdf, 'movieId', 'left')\n",
    "recommendations.show()"
   ]
  },
  {
   "cell_type": "code",
   "execution_count": null,
   "id": "2727b889",
   "metadata": {},
   "outputs": [],
   "source": []
  }
 ],
 "metadata": {
  "kernelspec": {
   "display_name": "Python 3 (ipykernel)",
   "language": "python",
   "name": "python3"
  },
  "language_info": {
   "codemirror_mode": {
    "name": "ipython",
    "version": 3
   },
   "file_extension": ".py",
   "mimetype": "text/x-python",
   "name": "python",
   "nbconvert_exporter": "python",
   "pygments_lexer": "ipython3",
   "version": "3.9.13"
  }
 },
 "nbformat": 4,
 "nbformat_minor": 5
}
