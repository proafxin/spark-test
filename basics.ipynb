{
 "cells": [
  {
   "cell_type": "code",
   "execution_count": 1,
   "id": "c3eae294",
   "metadata": {},
   "outputs": [],
   "source": [
    "from pyspark import SparkConf, SparkContext"
   ]
  },
  {
   "cell_type": "code",
   "execution_count": 2,
   "id": "7471733a",
   "metadata": {},
   "outputs": [],
   "source": [
    "conf = SparkConf().setAppName('basic')"
   ]
  },
  {
   "cell_type": "code",
   "execution_count": 3,
   "id": "726df0dc",
   "metadata": {},
   "outputs": [],
   "source": [
    "sc = SparkContext().getOrCreate(conf=conf)"
   ]
  },
  {
   "cell_type": "code",
   "execution_count": 4,
   "id": "7d7ea092",
   "metadata": {},
   "outputs": [
    {
     "data": {
      "text/plain": [
       "Crime_Data_from_2020_to_Present.csv MapPartitionsRDD[1] at textFile at DirectMethodHandleAccessor.java:104"
      ]
     },
     "execution_count": 4,
     "metadata": {},
     "output_type": "execute_result"
    }
   ],
   "source": [
    "rdd = sc.textFile('Crime_Data_from_2020_to_Present.csv')\n",
    "rdd"
   ]
  },
  {
   "cell_type": "code",
   "execution_count": 5,
   "id": "e182cdfe",
   "metadata": {},
   "outputs": [
    {
     "name": "stdout",
     "output_type": "stream",
     "text": [
      "CPU times: total: 297 ms\n",
      "Wall time: 1.9 s\n"
     ]
    }
   ],
   "source": [
    "%%time\n",
    "data = rdd.collect()"
   ]
  },
  {
   "cell_type": "code",
   "execution_count": 6,
   "id": "e67f3eb9",
   "metadata": {},
   "outputs": [
    {
     "data": {
      "text/plain": [
       "['DR_NO,Date Rptd,DATE OCC,TIME OCC,AREA,AREA NAME,Rpt Dist No,Part 1-2,Crm Cd,Crm Cd Desc,Mocodes,Vict Age,Vict Sex,Vict Descent,Premis Cd,Premis Desc,Weapon Used Cd,Weapon Desc,Status,Status Desc,Crm Cd 1,Crm Cd 2,Crm Cd 3,Crm Cd 4,LOCATION,Cross Street,LAT,LON',\n",
       " '010304468,01/08/2020 12:00:00 AM,01/08/2020 12:00:00 AM,2230,03,Southwest,0377,2,624,BATTERY - SIMPLE ASSAULT,0444 0913,36,F,B,501,SINGLE FAMILY DWELLING,400,\"STRONG-ARM (HANDS, FIST, FEET OR BODILY FORCE)\",AO,Adult Other,624,,,,1100 W  39TH                         PL,,34.0141,-118.2978',\n",
       " '190101086,01/02/2020 12:00:00 AM,01/01/2020 12:00:00 AM,0330,01,Central,0163,2,624,BATTERY - SIMPLE ASSAULT,0416 1822 1414,25,M,H,102,SIDEWALK,500,UNKNOWN WEAPON/OTHER WEAPON,IC,Invest Cont,624,,,,700 S  HILL                         ST,,34.0459,-118.2545',\n",
       " '200110444,04/14/2020 12:00:00 AM,02/13/2020 12:00:00 AM,1200,01,Central,0155,2,845,SEX OFFENDER REGISTRANT OUT OF COMPLIANCE,1501,0,X,X,726,POLICE FACILITY,,,AA,Adult Arrest,845,,,,200 E  6TH                          ST,,34.0448,-118.2474',\n",
       " '191501505,01/01/2020 12:00:00 AM,01/01/2020 12:00:00 AM,1730,15,N Hollywood,1543,2,745,VANDALISM - MISDEAMEANOR ($399 OR UNDER),0329 1402,76,F,W,502,\"MULTI-UNIT DWELLING (APARTMENT, DUPLEX, ETC)\",,,IC,Invest Cont,745,998,,,5400    CORTEEN                      PL,,34.1685,-118.4019']"
      ]
     },
     "execution_count": 6,
     "metadata": {},
     "output_type": "execute_result"
    }
   ],
   "source": [
    "data[:5]"
   ]
  },
  {
   "cell_type": "code",
   "execution_count": 7,
   "id": "30108e6d",
   "metadata": {},
   "outputs": [],
   "source": [
    "rdd = rdd.flatMap(lambda x: x.split(' '))"
   ]
  },
  {
   "cell_type": "code",
   "execution_count": 8,
   "id": "8160bc28",
   "metadata": {},
   "outputs": [],
   "source": [
    "def f(x):\n",
    "    return (x,1)"
   ]
  },
  {
   "cell_type": "code",
   "execution_count": 9,
   "id": "5ea3534b",
   "metadata": {},
   "outputs": [],
   "source": [
    "rdd = rdd.map(f)"
   ]
  },
  {
   "cell_type": "code",
   "execution_count": 10,
   "id": "8fdb782b",
   "metadata": {},
   "outputs": [],
   "source": [
    "res = rdd.groupByKey()"
   ]
  },
  {
   "cell_type": "code",
   "execution_count": 11,
   "id": "36bf9b7e",
   "metadata": {},
   "outputs": [],
   "source": [
    "res = res.map(lambda x: (x[0], sum(x[1])))\n",
    "res = res.filter(lambda x: x[1] > 500)"
   ]
  },
  {
   "cell_type": "code",
   "execution_count": 12,
   "id": "05ef2cd1",
   "metadata": {},
   "outputs": [
    {
     "data": {
      "text/plain": [
       "[('AM,01/08/2020', 535),\n",
       " ('BODILY', 115455),\n",
       " ('', 14045715),\n",
       " ('(APARTMENT,', 73516),\n",
       " ('EVENINGS', 843)]"
      ]
     },
     "execution_count": 12,
     "metadata": {},
     "output_type": "execute_result"
    }
   ],
   "source": [
    "res.collect()[:5]"
   ]
  },
  {
   "cell_type": "code",
   "execution_count": 13,
   "id": "24f2507b",
   "metadata": {},
   "outputs": [
    {
     "data": {
      "text/plain": [
       "1850"
      ]
     },
     "execution_count": 13,
     "metadata": {},
     "output_type": "execute_result"
    }
   ],
   "source": [
    "res.count()"
   ]
  },
  {
   "cell_type": "code",
   "execution_count": 14,
   "id": "004c8fa5",
   "metadata": {},
   "outputs": [
    {
     "data": {
      "text/plain": [
       "[('AM,01/08/2020', 535),\n",
       " ('BODILY', 115455),\n",
       " ('', 14045715),\n",
       " ('(APARTMENT,', 73516),\n",
       " ('EVENINGS', 843)]"
      ]
     },
     "execution_count": 14,
     "metadata": {},
     "output_type": "execute_result"
    }
   ],
   "source": [
    "res = rdd.reduceByKey(lambda x, y: x+y)\n",
    "res = res.filter(lambda x: x[1] > 500)\n",
    "res.collect()[:5]"
   ]
  },
  {
   "cell_type": "code",
   "execution_count": 15,
   "id": "895d9cf0",
   "metadata": {},
   "outputs": [
    {
     "data": {
      "text/plain": [
       "1850"
      ]
     },
     "execution_count": 15,
     "metadata": {},
     "output_type": "execute_result"
    }
   ],
   "source": [
    "res.map(lambda x:  x[0]).count()"
   ]
  },
  {
   "cell_type": "code",
   "execution_count": 16,
   "id": "3a0520ee",
   "metadata": {},
   "outputs": [
    {
     "data": {
      "text/plain": [
       "5"
      ]
     },
     "execution_count": 16,
     "metadata": {},
     "output_type": "execute_result"
    }
   ],
   "source": [
    "rdd.getNumPartitions()"
   ]
  },
  {
   "cell_type": "code",
   "execution_count": null,
   "id": "ff944297",
   "metadata": {},
   "outputs": [],
   "source": []
  }
 ],
 "metadata": {
  "kernelspec": {
   "display_name": "Python 3 (ipykernel)",
   "language": "python",
   "name": "python3"
  },
  "language_info": {
   "codemirror_mode": {
    "name": "ipython",
    "version": 3
   },
   "file_extension": ".py",
   "mimetype": "text/x-python",
   "name": "python",
   "nbconvert_exporter": "python",
   "pygments_lexer": "ipython3",
   "version": "3.9.13"
  }
 },
 "nbformat": 4,
 "nbformat_minor": 5
}
