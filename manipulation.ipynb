{
 "cells": [
  {
   "cell_type": "code",
   "execution_count": 1,
   "id": "c7e76b7e",
   "metadata": {},
   "outputs": [
    {
     "name": "stderr",
     "output_type": "stream",
     "text": [
      "WARNING:root:'PYARROW_IGNORE_TIMEZONE' environment variable was not set. It is required to set this environment variable to '1' in both driver and executor sides if you use pyarrow>=2.0.0. pandas-on-Spark will set it for you but it does not work if there is a Spark context already launched.\n"
     ]
    }
   ],
   "source": [
    "import pyspark.pandas as pspd\n",
    "from pyspark import SparkConf, SparkContext\n",
    "from pyspark.sql import SparkSession\n",
    "from pyspark.sql.functions import col, avg, collect_list, udf\n",
    "from pyspark.sql.types import StructField, StructType, StringType, IntegerType, FloatType"
   ]
  },
  {
   "cell_type": "code",
   "execution_count": 2,
   "id": "644b7d8e",
   "metadata": {},
   "outputs": [],
   "source": [
    "spark = SparkSession.builder.appName('Collaborative Filtering').config(\"spark.executor.memory\", \"6g\").getOrCreate()"
   ]
  },
  {
   "cell_type": "code",
   "execution_count": 3,
   "id": "a4bd1ea0",
   "metadata": {},
   "outputs": [],
   "source": [
    "sc = spark.sparkContext"
   ]
  },
  {
   "cell_type": "code",
   "execution_count": 4,
   "id": "7cb96bff",
   "metadata": {},
   "outputs": [],
   "source": [
    "schema = StructType([\n",
    "    StructField('userId', IntegerType(), nullable=True),\n",
    "    StructField('movieId', IntegerType(), nullable=True),\n",
    "    StructField('rating', FloatType(), nullable=True),\n",
    "    StructField('timestamp', IntegerType(), nullable=True),\n",
    "])"
   ]
  },
  {
   "cell_type": "code",
   "execution_count": 5,
   "id": "8664abf2",
   "metadata": {},
   "outputs": [
    {
     "data": {
      "text/html": [
       "<div>\n",
       "<style scoped>\n",
       "    .dataframe tbody tr th:only-of-type {\n",
       "        vertical-align: middle;\n",
       "    }\n",
       "\n",
       "    .dataframe tbody tr th {\n",
       "        vertical-align: top;\n",
       "    }\n",
       "\n",
       "    .dataframe thead th {\n",
       "        text-align: right;\n",
       "    }\n",
       "</style>\n",
       "<table border=\"1\" class=\"dataframe\">\n",
       "  <thead>\n",
       "    <tr style=\"text-align: right;\">\n",
       "      <th></th>\n",
       "      <th>a</th>\n",
       "      <th>b</th>\n",
       "    </tr>\n",
       "  </thead>\n",
       "  <tbody>\n",
       "    <tr>\n",
       "      <th>0</th>\n",
       "      <td>10</td>\n",
       "      <td>1</td>\n",
       "    </tr>\n",
       "    <tr>\n",
       "      <th>1</th>\n",
       "      <td>10</td>\n",
       "      <td>0</td>\n",
       "    </tr>\n",
       "  </tbody>\n",
       "</table>\n",
       "</div>"
      ],
      "text/plain": [
       "    a  b\n",
       "0  10  1\n",
       "1  10  0"
      ]
     },
     "execution_count": 5,
     "metadata": {},
     "output_type": "execute_result"
    }
   ],
   "source": [
    "import pandas as pd\n",
    "df = pd.DataFrame([{'a': 10, 'b': 1}, {'a': 10, 'b': 0}])\n",
    "df"
   ]
  },
  {
   "cell_type": "code",
   "execution_count": 6,
   "id": "2887b9d8",
   "metadata": {},
   "outputs": [
    {
     "data": {
      "text/html": [
       "<div>\n",
       "<style scoped>\n",
       "    .dataframe tbody tr th:only-of-type {\n",
       "        vertical-align: middle;\n",
       "    }\n",
       "\n",
       "    .dataframe tbody tr th {\n",
       "        vertical-align: top;\n",
       "    }\n",
       "\n",
       "    .dataframe thead th {\n",
       "        text-align: right;\n",
       "    }\n",
       "</style>\n",
       "<table border=\"1\" class=\"dataframe\">\n",
       "  <thead>\n",
       "    <tr style=\"text-align: right;\">\n",
       "      <th></th>\n",
       "      <th>a</th>\n",
       "      <th>b</th>\n",
       "    </tr>\n",
       "  </thead>\n",
       "  <tbody>\n",
       "    <tr>\n",
       "      <th>0</th>\n",
       "      <td>10</td>\n",
       "      <td>[1, 0]</td>\n",
       "    </tr>\n",
       "  </tbody>\n",
       "</table>\n",
       "</div>"
      ],
      "text/plain": [
       "    a       b\n",
       "0  10  [1, 0]"
      ]
     },
     "execution_count": 6,
     "metadata": {},
     "output_type": "execute_result"
    }
   ],
   "source": [
    "df = df.groupby(by='a', as_index=False)[['b']].agg(lambda x: list(x))\n",
    "df"
   ]
  },
  {
   "cell_type": "code",
   "execution_count": 7,
   "id": "8b38558a",
   "metadata": {},
   "outputs": [],
   "source": [
    "# rdd = sc.textFile('ratings.csv')\n",
    "# rdd.collect()"
   ]
  },
  {
   "cell_type": "code",
   "execution_count": 8,
   "id": "03b14f27",
   "metadata": {},
   "outputs": [],
   "source": [
    "# headers = rdd.first()\n",
    "# rdd = rdd.filter(lambda x: x != headers)\n",
    "# rdd.collect()"
   ]
  },
  {
   "cell_type": "code",
   "execution_count": 9,
   "id": "96471d1e",
   "metadata": {},
   "outputs": [
    {
     "name": "stdout",
     "output_type": "stream",
     "text": [
      "CPU times: total: 0 ns\n",
      "Wall time: 1.45 s\n"
     ]
    },
    {
     "data": {
      "text/plain": [
       "DataFrame[userId: int, movieId: int, rating: float, timestamp: int]"
      ]
     },
     "execution_count": 9,
     "metadata": {},
     "output_type": "execute_result"
    }
   ],
   "source": [
    "%%time\n",
    "rdf = spark.read.options(header= True,).schema(schema=schema).csv('ratings.csv')\n",
    "rdf"
   ]
  },
  {
   "cell_type": "code",
   "execution_count": 10,
   "id": "a8b866f1",
   "metadata": {},
   "outputs": [
    {
     "name": "stdout",
     "output_type": "stream",
     "text": [
      "+------+-------+------+---------+\n",
      "|userId|movieId|rating|timestamp|\n",
      "+------+-------+------+---------+\n",
      "|     1|      1|   4.0|964982703|\n",
      "|     1|      3|   4.0|964981247|\n",
      "|     1|      6|   4.0|964982224|\n",
      "|     1|     47|   5.0|964983815|\n",
      "|     1|     50|   5.0|964982931|\n",
      "|     1|     70|   3.0|964982400|\n",
      "|     1|    101|   5.0|964980868|\n",
      "|     1|    110|   4.0|964982176|\n",
      "|     1|    151|   5.0|964984041|\n",
      "|     1|    157|   5.0|964984100|\n",
      "|     1|    163|   5.0|964983650|\n",
      "|     1|    216|   5.0|964981208|\n",
      "|     1|    223|   3.0|964980985|\n",
      "|     1|    231|   5.0|964981179|\n",
      "|     1|    235|   4.0|964980908|\n",
      "|     1|    260|   5.0|964981680|\n",
      "|     1|    296|   3.0|964982967|\n",
      "|     1|    316|   3.0|964982310|\n",
      "|     1|    333|   5.0|964981179|\n",
      "|     1|    349|   4.0|964982563|\n",
      "+------+-------+------+---------+\n",
      "only showing top 20 rows\n",
      "\n"
     ]
    }
   ],
   "source": [
    "rdf.show()"
   ]
  },
  {
   "cell_type": "code",
   "execution_count": 11,
   "id": "4dd957bc",
   "metadata": {},
   "outputs": [
    {
     "name": "stdout",
     "output_type": "stream",
     "text": [
      "root\n",
      " |-- userId: integer (nullable = true)\n",
      " |-- movieId: integer (nullable = true)\n",
      " |-- rating: float (nullable = true)\n",
      " |-- timestamp: integer (nullable = true)\n",
      "\n"
     ]
    }
   ],
   "source": [
    "rdf.printSchema()"
   ]
  },
  {
   "cell_type": "code",
   "execution_count": 12,
   "id": "152e5beb",
   "metadata": {},
   "outputs": [
    {
     "data": {
      "text/plain": [
       "1"
      ]
     },
     "execution_count": 12,
     "metadata": {},
     "output_type": "execute_result"
    }
   ],
   "source": [
    "rdf.rdd.getNumPartitions()"
   ]
  },
  {
   "cell_type": "code",
   "execution_count": 13,
   "id": "d3d08e16",
   "metadata": {},
   "outputs": [
    {
     "data": {
      "text/plain": [
       "100836"
      ]
     },
     "execution_count": 13,
     "metadata": {},
     "output_type": "execute_result"
    }
   ],
   "source": [
    "rdf.count()"
   ]
  },
  {
   "cell_type": "code",
   "execution_count": 14,
   "id": "24e9f91a",
   "metadata": {},
   "outputs": [
    {
     "name": "stdout",
     "output_type": "stream",
     "text": [
      "+------+-------+------+\n",
      "|userId|movieId|rating|\n",
      "+------+-------+------+\n",
      "|     1|      1|   4.0|\n",
      "|     1|      3|   4.0|\n",
      "|     1|      6|   4.0|\n",
      "|     1|     47|   5.0|\n",
      "|     1|     50|   5.0|\n",
      "|     1|     70|   3.0|\n",
      "|     1|    101|   5.0|\n",
      "|     1|    110|   4.0|\n",
      "|     1|    151|   5.0|\n",
      "|     1|    157|   5.0|\n",
      "|     1|    163|   5.0|\n",
      "|     1|    216|   5.0|\n",
      "|     1|    223|   3.0|\n",
      "|     1|    231|   5.0|\n",
      "|     1|    235|   4.0|\n",
      "|     1|    260|   5.0|\n",
      "|     1|    296|   3.0|\n",
      "|     1|    316|   3.0|\n",
      "|     1|    333|   5.0|\n",
      "|     1|    349|   4.0|\n",
      "+------+-------+------+\n",
      "only showing top 20 rows\n",
      "\n"
     ]
    }
   ],
   "source": [
    "rdf.select('userId', 'movieId', 'rating').show()"
   ]
  },
  {
   "cell_type": "code",
   "execution_count": 15,
   "id": "8836c424",
   "metadata": {},
   "outputs": [
    {
     "name": "stdout",
     "output_type": "stream",
     "text": [
      "+------+-------+------+\n",
      "|userId|movieId|rating|\n",
      "+------+-------+------+\n",
      "|     1|      1|   4.0|\n",
      "|     1|      3|   4.0|\n",
      "|     1|      6|   4.0|\n",
      "|     1|     47|   5.0|\n",
      "|     1|     50|   5.0|\n",
      "|     1|     70|   3.0|\n",
      "|     1|    101|   5.0|\n",
      "|     1|    110|   4.0|\n",
      "|     1|    151|   5.0|\n",
      "|     1|    157|   5.0|\n",
      "|     1|    163|   5.0|\n",
      "|     1|    216|   5.0|\n",
      "|     1|    223|   3.0|\n",
      "|     1|    231|   5.0|\n",
      "|     1|    235|   4.0|\n",
      "|     1|    260|   5.0|\n",
      "|     1|    296|   3.0|\n",
      "|     1|    316|   3.0|\n",
      "|     1|    333|   5.0|\n",
      "|     1|    349|   4.0|\n",
      "+------+-------+------+\n",
      "only showing top 20 rows\n",
      "\n"
     ]
    }
   ],
   "source": [
    "rdf.select(rdf.userId, rdf.movieId, rdf.rating).show()"
   ]
  },
  {
   "cell_type": "code",
   "execution_count": 16,
   "id": "2fde6633",
   "metadata": {},
   "outputs": [],
   "source": [
    "def normalize(rdf, column):\n",
    "    mean = rdf.agg(avg(col(column)))\n",
    "    mean = mean.collect()[0][0]\n",
    "    rdf = rdf.withColumn(column+'_new', col(column)-mean)\n",
    "    \n",
    "    return rdf"
   ]
  },
  {
   "cell_type": "code",
   "execution_count": 17,
   "id": "39559b28",
   "metadata": {},
   "outputs": [
    {
     "data": {
      "text/html": [
       "<div>\n",
       "<style scoped>\n",
       "    .dataframe tbody tr th:only-of-type {\n",
       "        vertical-align: middle;\n",
       "    }\n",
       "\n",
       "    .dataframe tbody tr th {\n",
       "        vertical-align: top;\n",
       "    }\n",
       "\n",
       "    .dataframe thead th {\n",
       "        text-align: right;\n",
       "    }\n",
       "</style>\n",
       "<table border=\"1\" class=\"dataframe\">\n",
       "  <thead>\n",
       "    <tr style=\"text-align: right;\">\n",
       "      <th></th>\n",
       "      <th>userId</th>\n",
       "      <th>movieId</th>\n",
       "      <th>rating</th>\n",
       "      <th>timestamp</th>\n",
       "    </tr>\n",
       "  </thead>\n",
       "  <tbody>\n",
       "    <tr>\n",
       "      <th>0</th>\n",
       "      <td>1</td>\n",
       "      <td>1</td>\n",
       "      <td>4.0</td>\n",
       "      <td>964982703</td>\n",
       "    </tr>\n",
       "    <tr>\n",
       "      <th>1</th>\n",
       "      <td>1</td>\n",
       "      <td>3</td>\n",
       "      <td>4.0</td>\n",
       "      <td>964981247</td>\n",
       "    </tr>\n",
       "    <tr>\n",
       "      <th>2</th>\n",
       "      <td>1</td>\n",
       "      <td>6</td>\n",
       "      <td>4.0</td>\n",
       "      <td>964982224</td>\n",
       "    </tr>\n",
       "    <tr>\n",
       "      <th>3</th>\n",
       "      <td>1</td>\n",
       "      <td>47</td>\n",
       "      <td>5.0</td>\n",
       "      <td>964983815</td>\n",
       "    </tr>\n",
       "    <tr>\n",
       "      <th>4</th>\n",
       "      <td>1</td>\n",
       "      <td>50</td>\n",
       "      <td>5.0</td>\n",
       "      <td>964982931</td>\n",
       "    </tr>\n",
       "  </tbody>\n",
       "</table>\n",
       "</div>"
      ],
      "text/plain": [
       "   userId  movieId  rating  timestamp\n",
       "0       1        1     4.0  964982703\n",
       "1       1        3     4.0  964981247\n",
       "2       1        6     4.0  964982224\n",
       "3       1       47     5.0  964983815\n",
       "4       1       50     5.0  964982931"
      ]
     },
     "execution_count": 17,
     "metadata": {},
     "output_type": "execute_result"
    }
   ],
   "source": [
    "df = rdf.pandas_api()\n",
    "df.head()"
   ]
  },
  {
   "cell_type": "code",
   "execution_count": 18,
   "id": "77885807",
   "metadata": {},
   "outputs": [
    {
     "name": "stdout",
     "output_type": "stream",
     "text": [
      "+------+-------+------+---------+------------------+\n",
      "|userId|movieId|rating|timestamp|        rating_new|\n",
      "+------+-------+------+---------+------------------+\n",
      "|     1|      1|   4.0|964982703| 0.498443016383038|\n",
      "|     1|      3|   4.0|964981247| 0.498443016383038|\n",
      "|     1|      6|   4.0|964982224| 0.498443016383038|\n",
      "|     1|     47|   5.0|964983815| 1.498443016383038|\n",
      "|     1|     50|   5.0|964982931| 1.498443016383038|\n",
      "|     1|     70|   3.0|964982400|-0.501556983616962|\n",
      "|     1|    101|   5.0|964980868| 1.498443016383038|\n",
      "|     1|    110|   4.0|964982176| 0.498443016383038|\n",
      "|     1|    151|   5.0|964984041| 1.498443016383038|\n",
      "|     1|    157|   5.0|964984100| 1.498443016383038|\n",
      "|     1|    163|   5.0|964983650| 1.498443016383038|\n",
      "|     1|    216|   5.0|964981208| 1.498443016383038|\n",
      "|     1|    223|   3.0|964980985|-0.501556983616962|\n",
      "|     1|    231|   5.0|964981179| 1.498443016383038|\n",
      "|     1|    235|   4.0|964980908| 0.498443016383038|\n",
      "|     1|    260|   5.0|964981680| 1.498443016383038|\n",
      "|     1|    296|   3.0|964982967|-0.501556983616962|\n",
      "|     1|    316|   3.0|964982310|-0.501556983616962|\n",
      "|     1|    333|   5.0|964981179| 1.498443016383038|\n",
      "|     1|    349|   4.0|964982563| 0.498443016383038|\n",
      "+------+-------+------+---------+------------------+\n",
      "only showing top 20 rows\n",
      "\n"
     ]
    }
   ],
   "source": [
    "rdf = normalize(rdf, 'rating')\n",
    "rdf.show()"
   ]
  },
  {
   "cell_type": "code",
   "execution_count": 19,
   "id": "5183e9a4",
   "metadata": {},
   "outputs": [
    {
     "data": {
      "text/html": [
       "<div>\n",
       "<style scoped>\n",
       "    .dataframe tbody tr th:only-of-type {\n",
       "        vertical-align: middle;\n",
       "    }\n",
       "\n",
       "    .dataframe tbody tr th {\n",
       "        vertical-align: top;\n",
       "    }\n",
       "\n",
       "    .dataframe thead th {\n",
       "        text-align: right;\n",
       "    }\n",
       "</style>\n",
       "<table border=\"1\" class=\"dataframe\">\n",
       "  <thead>\n",
       "    <tr style=\"text-align: right;\">\n",
       "      <th></th>\n",
       "      <th>userId</th>\n",
       "      <th>movieId</th>\n",
       "      <th>rating</th>\n",
       "      <th>timestamp</th>\n",
       "      <th>rating_new</th>\n",
       "    </tr>\n",
       "  </thead>\n",
       "  <tbody>\n",
       "    <tr>\n",
       "      <th>0</th>\n",
       "      <td>1</td>\n",
       "      <td>1</td>\n",
       "      <td>4.0</td>\n",
       "      <td>964982703</td>\n",
       "      <td>0.498443</td>\n",
       "    </tr>\n",
       "    <tr>\n",
       "      <th>1</th>\n",
       "      <td>1</td>\n",
       "      <td>3</td>\n",
       "      <td>4.0</td>\n",
       "      <td>964981247</td>\n",
       "      <td>0.498443</td>\n",
       "    </tr>\n",
       "    <tr>\n",
       "      <th>2</th>\n",
       "      <td>1</td>\n",
       "      <td>6</td>\n",
       "      <td>4.0</td>\n",
       "      <td>964982224</td>\n",
       "      <td>0.498443</td>\n",
       "    </tr>\n",
       "    <tr>\n",
       "      <th>3</th>\n",
       "      <td>1</td>\n",
       "      <td>47</td>\n",
       "      <td>5.0</td>\n",
       "      <td>964983815</td>\n",
       "      <td>1.498443</td>\n",
       "    </tr>\n",
       "    <tr>\n",
       "      <th>4</th>\n",
       "      <td>1</td>\n",
       "      <td>50</td>\n",
       "      <td>5.0</td>\n",
       "      <td>964982931</td>\n",
       "      <td>1.498443</td>\n",
       "    </tr>\n",
       "  </tbody>\n",
       "</table>\n",
       "</div>"
      ],
      "text/plain": [
       "   userId  movieId  rating  timestamp  rating_new\n",
       "0       1        1     4.0  964982703    0.498443\n",
       "1       1        3     4.0  964981247    0.498443\n",
       "2       1        6     4.0  964982224    0.498443\n",
       "3       1       47     5.0  964983815    1.498443\n",
       "4       1       50     5.0  964982931    1.498443"
      ]
     },
     "execution_count": 19,
     "metadata": {},
     "output_type": "execute_result"
    }
   ],
   "source": [
    "df['rating_new'] = df['rating']-df['rating'].mean()\n",
    "df.head()"
   ]
  },
  {
   "cell_type": "code",
   "execution_count": 20,
   "id": "68c42d40",
   "metadata": {},
   "outputs": [
    {
     "name": "stdout",
     "output_type": "stream",
     "text": [
      "+------+-------+------+---------+------------------+\n",
      "|userId|movieId|rating|timestamp|        rating_new|\n",
      "+------+-------+------+---------+------------------+\n",
      "|     1|      1|   4.0|964982703| 0.498443016383038|\n",
      "|     1|      3|   4.0|964981247| 0.498443016383038|\n",
      "|     1|      6|   4.0|964982224| 0.498443016383038|\n",
      "|     1|     47|   5.0|964983815| 1.498443016383038|\n",
      "|     1|     50|   5.0|964982931| 1.498443016383038|\n",
      "|     1|     70|   3.0|964982400|-0.501556983616962|\n",
      "|     1|    101|   5.0|964980868| 1.498443016383038|\n",
      "|     1|    110|   4.0|964982176| 0.498443016383038|\n",
      "|     1|    151|   5.0|964984041| 1.498443016383038|\n",
      "|     1|    157|   5.0|964984100| 1.498443016383038|\n",
      "|     1|    163|   5.0|964983650| 1.498443016383038|\n",
      "|     1|    216|   5.0|964981208| 1.498443016383038|\n",
      "|     1|    223|   3.0|964980985|-0.501556983616962|\n",
      "|     1|    231|   5.0|964981179| 1.498443016383038|\n",
      "|     1|    235|   4.0|964980908| 0.498443016383038|\n",
      "|     1|    260|   5.0|964981680| 1.498443016383038|\n",
      "|     1|    296|   3.0|964982967|-0.501556983616962|\n",
      "|     1|    316|   3.0|964982310|-0.501556983616962|\n",
      "|     1|    333|   5.0|964981179| 1.498443016383038|\n",
      "|     1|    349|   4.0|964982563| 0.498443016383038|\n",
      "+------+-------+------+---------+------------------+\n",
      "only showing top 20 rows\n",
      "\n"
     ]
    },
    {
     "name": "stderr",
     "output_type": "stream",
     "text": [
      "C:\\spark-3.3.0-bin-hadoop3\\python\\pyspark\\pandas\\utils.py:975: PandasAPIOnSparkAdviceWarning: If `index_col` is not specified for `to_spark`, the existing index is lost when converting to Spark DataFrame.\n",
      "  warnings.warn(message, PandasAPIOnSparkAdviceWarning)\n"
     ]
    }
   ],
   "source": [
    "sdf = df.to_spark()\n",
    "sdf.show()"
   ]
  },
  {
   "cell_type": "code",
   "execution_count": 21,
   "id": "3146d466",
   "metadata": {},
   "outputs": [
    {
     "name": "stdout",
     "output_type": "stream",
     "text": [
      "+------+-------+------+---------+-----------------+\n",
      "|userId|movieId|rating|timestamp|       rating_new|\n",
      "+------+-------+------+---------+-----------------+\n",
      "|     1|      1|   4.0|964982703|0.498443016383038|\n",
      "|     1|      3|   4.0|964981247|0.498443016383038|\n",
      "|     1|      6|   4.0|964982224|0.498443016383038|\n",
      "|     1|     47|   5.0|964983815|1.498443016383038|\n",
      "|     1|     50|   5.0|964982931|1.498443016383038|\n",
      "|     1|    101|   5.0|964980868|1.498443016383038|\n",
      "|     1|    110|   4.0|964982176|0.498443016383038|\n",
      "|     1|    151|   5.0|964984041|1.498443016383038|\n",
      "|     1|    157|   5.0|964984100|1.498443016383038|\n",
      "|     1|    163|   5.0|964983650|1.498443016383038|\n",
      "|     1|    216|   5.0|964981208|1.498443016383038|\n",
      "|     1|    231|   5.0|964981179|1.498443016383038|\n",
      "|     1|    235|   4.0|964980908|0.498443016383038|\n",
      "|     1|    260|   5.0|964981680|1.498443016383038|\n",
      "|     1|    333|   5.0|964981179|1.498443016383038|\n",
      "|     1|    349|   4.0|964982563|0.498443016383038|\n",
      "|     1|    356|   4.0|964980962|0.498443016383038|\n",
      "|     1|    362|   5.0|964982588|1.498443016383038|\n",
      "|     1|    367|   4.0|964981710|0.498443016383038|\n",
      "|     1|    441|   4.0|964980868|0.498443016383038|\n",
      "+------+-------+------+---------+-----------------+\n",
      "only showing top 20 rows\n",
      "\n"
     ]
    }
   ],
   "source": [
    "rdf.filter((rdf.rating >= 4) & (rdf.rating_new > 0)).show()"
   ]
  },
  {
   "cell_type": "code",
   "execution_count": 22,
   "id": "289ffb12",
   "metadata": {},
   "outputs": [
    {
     "data": {
      "text/html": [
       "<div>\n",
       "<style scoped>\n",
       "    .dataframe tbody tr th:only-of-type {\n",
       "        vertical-align: middle;\n",
       "    }\n",
       "\n",
       "    .dataframe tbody tr th {\n",
       "        vertical-align: top;\n",
       "    }\n",
       "\n",
       "    .dataframe thead th {\n",
       "        text-align: right;\n",
       "    }\n",
       "</style>\n",
       "<table border=\"1\" class=\"dataframe\">\n",
       "  <thead>\n",
       "    <tr style=\"text-align: right;\">\n",
       "      <th></th>\n",
       "      <th>userId</th>\n",
       "      <th>movieId</th>\n",
       "      <th>rating</th>\n",
       "      <th>timestamp</th>\n",
       "      <th>rating_new</th>\n",
       "    </tr>\n",
       "  </thead>\n",
       "  <tbody>\n",
       "    <tr>\n",
       "      <th>0</th>\n",
       "      <td>1</td>\n",
       "      <td>1</td>\n",
       "      <td>4.0</td>\n",
       "      <td>964982703</td>\n",
       "      <td>0.498443</td>\n",
       "    </tr>\n",
       "    <tr>\n",
       "      <th>1</th>\n",
       "      <td>1</td>\n",
       "      <td>3</td>\n",
       "      <td>4.0</td>\n",
       "      <td>964981247</td>\n",
       "      <td>0.498443</td>\n",
       "    </tr>\n",
       "    <tr>\n",
       "      <th>2</th>\n",
       "      <td>1</td>\n",
       "      <td>6</td>\n",
       "      <td>4.0</td>\n",
       "      <td>964982224</td>\n",
       "      <td>0.498443</td>\n",
       "    </tr>\n",
       "    <tr>\n",
       "      <th>3</th>\n",
       "      <td>1</td>\n",
       "      <td>47</td>\n",
       "      <td>5.0</td>\n",
       "      <td>964983815</td>\n",
       "      <td>1.498443</td>\n",
       "    </tr>\n",
       "    <tr>\n",
       "      <th>4</th>\n",
       "      <td>1</td>\n",
       "      <td>50</td>\n",
       "      <td>5.0</td>\n",
       "      <td>964982931</td>\n",
       "      <td>1.498443</td>\n",
       "    </tr>\n",
       "  </tbody>\n",
       "</table>\n",
       "</div>"
      ],
      "text/plain": [
       "   userId  movieId  rating  timestamp  rating_new\n",
       "0       1        1     4.0  964982703    0.498443\n",
       "1       1        3     4.0  964981247    0.498443\n",
       "2       1        6     4.0  964982224    0.498443\n",
       "3       1       47     5.0  964983815    1.498443\n",
       "4       1       50     5.0  964982931    1.498443"
      ]
     },
     "execution_count": 22,
     "metadata": {},
     "output_type": "execute_result"
    }
   ],
   "source": [
    "df[df['rating'] >= 4].head()"
   ]
  },
  {
   "cell_type": "code",
   "execution_count": 23,
   "id": "e3bab37c",
   "metadata": {},
   "outputs": [
    {
     "name": "stdout",
     "output_type": "stream",
     "text": [
      "+------+\n",
      "|rating|\n",
      "+------+\n",
      "|   5.0|\n",
      "|   2.5|\n",
      "|   2.0|\n",
      "|   3.0|\n",
      "|   1.5|\n",
      "|   0.5|\n",
      "|   3.5|\n",
      "|   1.0|\n",
      "|   4.5|\n",
      "|   4.0|\n",
      "+------+\n",
      "\n"
     ]
    }
   ],
   "source": [
    "rdf.select('rating').distinct().show()"
   ]
  },
  {
   "cell_type": "code",
   "execution_count": 24,
   "id": "30d55b98",
   "metadata": {},
   "outputs": [
    {
     "data": {
      "text/plain": [
       "610"
      ]
     },
     "execution_count": 24,
     "metadata": {},
     "output_type": "execute_result"
    }
   ],
   "source": [
    "rdf.select('userId').distinct().count()"
   ]
  },
  {
   "cell_type": "code",
   "execution_count": 25,
   "id": "b96e0a8b",
   "metadata": {},
   "outputs": [
    {
     "data": {
      "text/plain": [
       "100836"
      ]
     },
     "execution_count": 25,
     "metadata": {},
     "output_type": "execute_result"
    }
   ],
   "source": [
    "rdf.dropDuplicates(['userId', 'movieId']).count()"
   ]
  },
  {
   "cell_type": "code",
   "execution_count": 26,
   "id": "e7923364",
   "metadata": {},
   "outputs": [
    {
     "data": {
      "text/plain": [
       "100836"
      ]
     },
     "execution_count": 26,
     "metadata": {},
     "output_type": "execute_result"
    }
   ],
   "source": [
    "rdf.count()"
   ]
  },
  {
   "cell_type": "code",
   "execution_count": 27,
   "id": "42b50633",
   "metadata": {},
   "outputs": [
    {
     "name": "stdout",
     "output_type": "stream",
     "text": [
      "+------+--------------------+--------------------+----------+\n",
      "|userId|             movieId|              rating|avg_rating|\n",
      "+------+--------------------+--------------------+----------+\n",
      "|     1|[1, 3, 6, 47, 50,...|[4.0, 4.0, 4.0, 5...| 4.3663793|\n",
      "|     2|[318, 333, 1704, ...|[3.0, 4.0, 4.5, 4...| 3.9482758|\n",
      "|     3|[31, 527, 647, 68...|[0.5, 0.5, 0.5, 0...| 2.4358974|\n",
      "|     4|[21, 32, 45, 47, ...|[3.0, 2.0, 3.0, 2...| 3.5555556|\n",
      "|     5|[1, 21, 34, 36, 3...|[4.0, 4.0, 4.0, 4...| 3.6363637|\n",
      "|     6|[2, 3, 4, 5, 6, 7...|[4.0, 5.0, 3.0, 5...| 3.4936306|\n",
      "|     7|[1, 50, 58, 150, ...|[4.5, 4.5, 3.0, 4...| 3.2302632|\n",
      "|     8|[2, 10, 11, 21, 3...|[4.0, 2.0, 4.0, 4...| 3.5744681|\n",
      "|     9|[41, 187, 223, 37...|[3.0, 3.0, 4.0, 3...| 3.2608695|\n",
      "|    10|[296, 356, 588, 5...|[1.0, 3.5, 4.0, 3...| 3.2785714|\n",
      "|    11|[6, 10, 36, 44, 9...|[5.0, 3.0, 4.0, 2...|   3.78125|\n",
      "|    12|[39, 168, 222, 25...|[4.0, 5.0, 5.0, 5...|  4.390625|\n",
      "|    13|[47, 305, 597, 11...|[5.0, 1.0, 3.0, 3...| 3.6451614|\n",
      "|    14|[4, 7, 19, 25, 32...|[3.0, 3.0, 1.0, 4...| 3.3958333|\n",
      "|    15|[1, 44, 47, 158, ...|[2.5, 1.0, 3.5, 1...| 3.4481483|\n",
      "|    16|[47, 50, 111, 204...|[3.5, 4.0, 4.5, 2...| 3.7244897|\n",
      "|    17|[1, 44, 47, 50, 1...|[4.5, 3.5, 4.0, 4...| 4.2095237|\n",
      "|    18|[1, 2, 6, 16, 32,...|[3.5, 3.0, 4.0, 4...| 3.7320716|\n",
      "|    19|[1, 2, 3, 7, 10, ...|[4.0, 3.0, 3.0, 2...| 2.6073968|\n",
      "|    20|[2, 8, 13, 34, 48...|[3.0, 1.0, 4.0, 4...|  3.590909|\n",
      "+------+--------------------+--------------------+----------+\n",
      "only showing top 20 rows\n",
      "\n"
     ]
    }
   ],
   "source": [
    "group = rdf.groupBy('userId').agg(collect_list('movieId'), collect_list('rating'))\n",
    "group = group.withColumnRenamed('collect_list(movieId)', 'movieId')\n",
    "group = group.withColumnRenamed('collect_list(rating)', 'rating')\n",
    "\n",
    "def get_avg(x):\n",
    "    if len(x) < 1:\n",
    "        return 0\n",
    "    return sum(x)/len(x)\n",
    "\n",
    "\n",
    "_udf = udf(lambda x: get_avg(x), FloatType())\n",
    "group = group.withColumn('avg_rating', _udf(group.rating))\n",
    "group.show()"
   ]
  },
  {
   "cell_type": "code",
   "execution_count": 28,
   "id": "a076ce19",
   "metadata": {},
   "outputs": [
    {
     "data": {
      "text/html": [
       "<div>\n",
       "<style scoped>\n",
       "    .dataframe tbody tr th:only-of-type {\n",
       "        vertical-align: middle;\n",
       "    }\n",
       "\n",
       "    .dataframe tbody tr th {\n",
       "        vertical-align: top;\n",
       "    }\n",
       "\n",
       "    .dataframe thead th {\n",
       "        text-align: right;\n",
       "    }\n",
       "</style>\n",
       "<table border=\"1\" class=\"dataframe\">\n",
       "  <thead>\n",
       "    <tr style=\"text-align: right;\">\n",
       "      <th></th>\n",
       "      <th>userId</th>\n",
       "      <th>movieId</th>\n",
       "      <th>rating</th>\n",
       "      <th>avg_rating</th>\n",
       "    </tr>\n",
       "  </thead>\n",
       "  <tbody>\n",
       "    <tr>\n",
       "      <th>0</th>\n",
       "      <td>1</td>\n",
       "      <td>[1, 3, 6, 47, 50, 70, 101, 110, 151, 157, 163,...</td>\n",
       "      <td>[4.0, 4.0, 4.0, 5.0, 5.0, 3.0, 5.0, 4.0, 5.0, ...</td>\n",
       "      <td>4.366379</td>\n",
       "    </tr>\n",
       "    <tr>\n",
       "      <th>1</th>\n",
       "      <td>2</td>\n",
       "      <td>[318, 333, 1704, 3578, 6874, 8798, 46970, 4851...</td>\n",
       "      <td>[3.0, 4.0, 4.5, 4.0, 4.0, 3.5, 4.0, 4.0, 4.5, ...</td>\n",
       "      <td>3.948276</td>\n",
       "    </tr>\n",
       "    <tr>\n",
       "      <th>2</th>\n",
       "      <td>3</td>\n",
       "      <td>[31, 527, 647, 688, 720, 849, 914, 1093, 1124,...</td>\n",
       "      <td>[0.5, 0.5, 0.5, 0.5, 0.5, 5.0, 0.5, 0.5, 0.5, ...</td>\n",
       "      <td>2.435897</td>\n",
       "    </tr>\n",
       "    <tr>\n",
       "      <th>3</th>\n",
       "      <td>4</td>\n",
       "      <td>[21, 32, 45, 47, 52, 58, 106, 125, 126, 162, 1...</td>\n",
       "      <td>[3.0, 2.0, 3.0, 2.0, 3.0, 3.0, 4.0, 5.0, 1.0, ...</td>\n",
       "      <td>3.555556</td>\n",
       "    </tr>\n",
       "    <tr>\n",
       "      <th>4</th>\n",
       "      <td>5</td>\n",
       "      <td>[1, 21, 34, 36, 39, 50, 58, 110, 150, 153, 232...</td>\n",
       "      <td>[4.0, 4.0, 4.0, 4.0, 3.0, 4.0, 5.0, 4.0, 3.0, ...</td>\n",
       "      <td>3.636364</td>\n",
       "    </tr>\n",
       "  </tbody>\n",
       "</table>\n",
       "</div>"
      ],
      "text/plain": [
       "   userId                                                                                                                                                                                                                                                                                                                                                                                                                                                                                                                                                              movieId                                                                                                                                                                                                                                                                                                                                                                                                                                                                                                                     rating  avg_rating\n",
       "0       1  [1, 3, 6, 47, 50, 70, 101, 110, 151, 157, 163, 216, 223, 231, 235, 260, 296, 316, 333, 349, 356, 362, 367, 423, 441, 457, 480, 500, 527, 543, 552, 553, 590, 592, 593, 596, 608, 648, 661, 673, 733, 736, 780, 804, 919, 923, 940, 943, 954, 1009, 1023, 1024, 1025, 1029, 1030, 1031, 1032, 1042, 1049, 1060, 1073, 1080, 1089, 1090, 1092, 1097, 1127, 1136, 1196, 1197, 1198, 1206, 1208, 1210, 1213, 1214, 1219, 1220, 1222, 1224, 1226, 1240, 1256, 1258, 1265, 1270, 1275, 1278, 1282, 1291, 1298, 1348, 1377, 1396, 1408, 1445, 1473, 1500, 1517, 1552, ...]  [4.0, 4.0, 4.0, 5.0, 5.0, 3.0, 5.0, 4.0, 5.0, 5.0, 5.0, 5.0, 3.0, 5.0, 4.0, 5.0, 3.0, 3.0, 5.0, 4.0, 4.0, 5.0, 4.0, 3.0, 4.0, 5.0, 4.0, 3.0, 5.0, 4.0, 4.0, 5.0, 4.0, 4.0, 4.0, 5.0, 5.0, 3.0, 5.0, 3.0, 4.0, 3.0, 3.0, 4.0, 5.0, 5.0, 5.0, 4.0, 5.0, 3.0, 5.0, 5.0, 5.0, 5.0, 3.0, 5.0, 5.0, 4.0, 5.0, 4.0, 5.0, 5.0, 5.0, 4.0, 5.0, 5.0, 4.0, 5.0, 5.0, 5.0, 5.0, 5.0, 4.0, 5.0, 5.0, 4.0, 2.0, 5.0, 5.0, 5.0, 5.0, 5.0, 5.0, 3.0, 4.0, 5.0, 5.0, 5.0, 5.0, 5.0, 5.0, 4.0, 3.0, 3.0, 3.0, 3.0, 4.0, 4.0, 5.0, 4.0, ...]    4.366379\n",
       "1       2                                                                                                                                                                                                                                                                                                                                                           [318, 333, 1704, 3578, 6874, 8798, 46970, 48516, 58559, 60756, 68157, 71535, 74458, 77455, 79132, 80489, 80906, 86345, 89774, 91529, 91658, 99114, 106782, 109487, 112552, 114060, 115713, 122882, 131724]                                                                                                                                                                                                                                                                                                                                                                          [3.0, 4.0, 4.5, 4.0, 4.0, 3.5, 4.0, 4.0, 4.5, 5.0, 4.5, 3.0, 4.0, 3.0, 4.0, 4.5, 5.0, 4.0, 5.0, 3.5, 2.5, 3.5, 5.0, 3.0, 4.0, 2.0, 3.5, 5.0, 5.0]    3.948276\n",
       "2       3                                                                                                                                                                                                                                                                                                                                [31, 527, 647, 688, 720, 849, 914, 1093, 1124, 1263, 1272, 1275, 1302, 1371, 1587, 2018, 2080, 2090, 2105, 2288, 2424, 2851, 3024, 3210, 3703, 3949, 4518, 5048, 5181, 5746, 5764, 5919, 6238, 6835, 7899, 7991, 26409, 70946, 72378]                                                                                                                                                                                                                                                                                                                        [0.5, 0.5, 0.5, 0.5, 0.5, 5.0, 0.5, 0.5, 0.5, 0.5, 0.5, 3.5, 0.5, 3.0, 4.5, 0.5, 0.5, 0.5, 2.0, 4.0, 0.5, 5.0, 4.5, 0.5, 5.0, 0.5, 5.0, 0.5, 5.0, 5.0, 4.5, 5.0, 0.5, 5.0, 4.5, 5.0, 4.5, 5.0, 0.5]    2.435897\n",
       "3       4          [21, 32, 45, 47, 52, 58, 106, 125, 126, 162, 171, 176, 190, 215, 222, 232, 235, 247, 260, 265, 296, 319, 342, 345, 348, 351, 357, 368, 417, 441, 450, 457, 475, 492, 509, 538, 539, 553, 588, 593, 595, 599, 608, 648, 708, 759, 800, 892, 898, 899, 902, 904, 908, 910, 912, 914, 919, 920, 930, 937, 1025, 1046, 1057, 1060, 1073, 1077, 1079, 1080, 1084, 1086, 1094, 1103, 1136, 1179, 1183, 1188, 1196, 1197, 1198, 1199, 1203, 1211, 1213, 1219, 1225, 1250, 1259, 1265, 1266, 1279, 1282, 1283, 1288, 1291, 1304, 1391, 1449, 1466, 1500, 1517, ...]  [3.0, 2.0, 3.0, 2.0, 3.0, 3.0, 4.0, 5.0, 1.0, 5.0, 3.0, 5.0, 2.0, 5.0, 1.0, 5.0, 2.0, 3.0, 5.0, 5.0, 1.0, 5.0, 5.0, 4.0, 4.0, 3.0, 3.0, 4.0, 2.0, 1.0, 2.0, 5.0, 5.0, 5.0, 1.0, 5.0, 1.0, 2.0, 4.0, 5.0, 3.0, 2.0, 5.0, 3.0, 4.0, 3.0, 4.0, 4.0, 5.0, 4.0, 4.0, 4.0, 5.0, 5.0, 5.0, 5.0, 5.0, 5.0, 5.0, 3.0, 4.0, 5.0, 3.0, 2.0, 4.0, 5.0, 2.0, 5.0, 5.0, 5.0, 3.0, 5.0, 5.0, 4.0, 1.0, 5.0, 5.0, 5.0, 3.0, 2.0, 5.0, 1.0, 4.0, 4.0, 4.0, 5.0, 4.0, 4.0, 4.0, 2.0, 5.0, 5.0, 4.0, 4.0, 3.0, 1.0, 5.0, 4.0, 4.0, 4.0, ...]    3.555556\n",
       "4       5                                                                                                                                                                                                                                                                                                                                                 [1, 21, 34, 36, 39, 50, 58, 110, 150, 153, 232, 247, 253, 261, 265, 266, 290, 296, 300, 316, 318, 344, 349, 357, 364, 367, 380, 410, 457, 474, 475, 515, 527, 531, 534, 588, 589, 590, 592, 594, 595, 596, 597, 608]                                                                                                                                                                                                                                                                                               [4.0, 4.0, 4.0, 4.0, 3.0, 4.0, 5.0, 4.0, 3.0, 3.0, 4.0, 5.0, 3.0, 4.0, 3.0, 1.0, 5.0, 5.0, 3.0, 2.0, 3.0, 3.0, 3.0, 2.0, 3.0, 4.0, 2.0, 3.0, 4.0, 4.0, 5.0, 3.0, 5.0, 4.0, 3.0, 4.0, 3.0, 5.0, 3.0, 5.0, 5.0, 5.0, 3.0, 3.0]    3.636364"
      ]
     },
     "execution_count": 28,
     "metadata": {},
     "output_type": "execute_result"
    }
   ],
   "source": [
    "group = group.pandas_api()\n",
    "group.head()"
   ]
  },
  {
   "cell_type": "code",
   "execution_count": 29,
   "id": "2b427586",
   "metadata": {},
   "outputs": [
    {
     "name": "stderr",
     "output_type": "stream",
     "text": [
      "C:\\spark-3.3.0-bin-hadoop3\\python\\pyspark\\pandas\\utils.py:975: PandasAPIOnSparkAdviceWarning: If `index_col` is not specified for `to_spark`, the existing index is lost when converting to Spark DataFrame.\n",
      "  warnings.warn(message, PandasAPIOnSparkAdviceWarning)\n"
     ]
    },
    {
     "name": "stdout",
     "output_type": "stream",
     "text": [
      "+------+--------------------+--------------------+----------+\n",
      "|userId|             movieId|              rating|avg_rating|\n",
      "+------+--------------------+--------------------+----------+\n",
      "|     1|[1, 3, 6, 47, 50,...|[4.0, 4.0, 4.0, 5...| 4.3663793|\n",
      "|     2|[318, 333, 1704, ...|[3.0, 4.0, 4.5, 4...| 3.9482758|\n",
      "|     3|[31, 527, 647, 68...|[0.5, 0.5, 0.5, 0...| 2.4358974|\n",
      "|     4|[21, 32, 45, 47, ...|[3.0, 2.0, 3.0, 2...| 3.5555556|\n",
      "|     5|[1, 21, 34, 36, 3...|[4.0, 4.0, 4.0, 4...| 3.6363637|\n",
      "|     6|[2, 3, 4, 5, 6, 7...|[4.0, 5.0, 3.0, 5...| 3.4936306|\n",
      "|     7|[1, 50, 58, 150, ...|[4.5, 4.5, 3.0, 4...| 3.2302632|\n",
      "|     8|[2, 10, 11, 21, 3...|[4.0, 2.0, 4.0, 4...| 3.5744681|\n",
      "|     9|[41, 187, 223, 37...|[3.0, 3.0, 4.0, 3...| 3.2608695|\n",
      "|    10|[296, 356, 588, 5...|[1.0, 3.5, 4.0, 3...| 3.2785714|\n",
      "|    11|[6, 10, 36, 44, 9...|[5.0, 3.0, 4.0, 2...|   3.78125|\n",
      "|    12|[39, 168, 222, 25...|[4.0, 5.0, 5.0, 5...|  4.390625|\n",
      "|    13|[47, 305, 597, 11...|[5.0, 1.0, 3.0, 3...| 3.6451614|\n",
      "|    14|[4, 7, 19, 25, 32...|[3.0, 3.0, 1.0, 4...| 3.3958333|\n",
      "|    15|[1, 44, 47, 158, ...|[2.5, 1.0, 3.5, 1...| 3.4481483|\n",
      "|    16|[47, 50, 111, 204...|[3.5, 4.0, 4.5, 2...| 3.7244897|\n",
      "|    17|[1, 44, 47, 50, 1...|[4.5, 3.5, 4.0, 4...| 4.2095237|\n",
      "|    18|[1, 2, 6, 16, 32,...|[3.5, 3.0, 4.0, 4...| 3.7320716|\n",
      "|    19|[1, 2, 3, 7, 10, ...|[4.0, 3.0, 3.0, 2...| 2.6073968|\n",
      "|    20|[2, 8, 13, 34, 48...|[3.0, 1.0, 4.0, 4...|  3.590909|\n",
      "+------+--------------------+--------------------+----------+\n",
      "only showing top 20 rows\n",
      "\n"
     ]
    }
   ],
   "source": [
    "rdd_new = group.to_spark()\n",
    "rdd_new.show()"
   ]
  },
  {
   "cell_type": "code",
   "execution_count": 30,
   "id": "e93299f9",
   "metadata": {},
   "outputs": [
    {
     "data": {
      "text/plain": [
       "DataFrame[userId: int, movieId: int, rating: float, timestamp: int, rating_new: double]"
      ]
     },
     "execution_count": 30,
     "metadata": {},
     "output_type": "execute_result"
    }
   ],
   "source": [
    "rdf_cached = rdf.alias('rdf_cached')\n",
    "rdf_cached.cache()"
   ]
  },
  {
   "cell_type": "code",
   "execution_count": 31,
   "id": "488dd4ac",
   "metadata": {},
   "outputs": [
    {
     "name": "stdout",
     "output_type": "stream",
     "text": [
      "+------+-------+------+---------+------------------+\n",
      "|userId|movieId|rating|timestamp|        rating_new|\n",
      "+------+-------+------+---------+------------------+\n",
      "|     1|      1|   4.0|964982703| 0.498443016383038|\n",
      "|     1|      3|   4.0|964981247| 0.498443016383038|\n",
      "|     1|      6|   4.0|964982224| 0.498443016383038|\n",
      "|     1|     47|   5.0|964983815| 1.498443016383038|\n",
      "|     1|     50|   5.0|964982931| 1.498443016383038|\n",
      "|     1|     70|   3.0|964982400|-0.501556983616962|\n",
      "|     1|    101|   5.0|964980868| 1.498443016383038|\n",
      "|     1|    110|   4.0|964982176| 0.498443016383038|\n",
      "|     1|    151|   5.0|964984041| 1.498443016383038|\n",
      "|     1|    157|   5.0|964984100| 1.498443016383038|\n",
      "|     1|    163|   5.0|964983650| 1.498443016383038|\n",
      "|     1|    216|   5.0|964981208| 1.498443016383038|\n",
      "|     1|    223|   3.0|964980985|-0.501556983616962|\n",
      "|     1|    231|   5.0|964981179| 1.498443016383038|\n",
      "|     1|    235|   4.0|964980908| 0.498443016383038|\n",
      "|     1|    260|   5.0|964981680| 1.498443016383038|\n",
      "|     1|    296|   3.0|964982967|-0.501556983616962|\n",
      "|     1|    316|   3.0|964982310|-0.501556983616962|\n",
      "|     1|    333|   5.0|964981179| 1.498443016383038|\n",
      "|     1|    349|   4.0|964982563| 0.498443016383038|\n",
      "+------+-------+------+---------+------------------+\n",
      "only showing top 20 rows\n",
      "\n"
     ]
    }
   ],
   "source": [
    "rdf_cached.show()"
   ]
  },
  {
   "cell_type": "code",
   "execution_count": null,
   "id": "89aecb1a",
   "metadata": {},
   "outputs": [],
   "source": []
  }
 ],
 "metadata": {
  "kernelspec": {
   "display_name": "Python 3 (ipykernel)",
   "language": "python",
   "name": "python3"
  },
  "language_info": {
   "codemirror_mode": {
    "name": "ipython",
    "version": 3
   },
   "file_extension": ".py",
   "mimetype": "text/x-python",
   "name": "python",
   "nbconvert_exporter": "python",
   "pygments_lexer": "ipython3",
   "version": "3.9.13"
  }
 },
 "nbformat": 4,
 "nbformat_minor": 5
}
